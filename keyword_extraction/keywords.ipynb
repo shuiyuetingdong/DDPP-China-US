{
 "cells": [
  {
   "cell_type": "code",
   "execution_count": null,
   "id": "d588e6f3-e6d7-4ab5-8a33-cf40a3d0649d",
   "metadata": {},
   "outputs": [],
   "source": [
    "import numpy as np\n",
    "from transformers import AutoTokenizer, AutoModel\n",
    "from sklearn.metrics.pairwise import cosine_similarity\n",
    "import torch\n",
    "\n",
    "tokenizer = AutoTokenizer.from_pretrained(\"/root/m3e-base\")\n",
    "model = AutoModel.from_pretrained(\"/root/m3e-base\")\n",
    "\n",
    "def get_embedding(phrase, tokenizer, model):\n",
    "\n",
    "    inputs = tokenizer(phrase, return_tensors=\"pt\", padding=True, truncation=True)\n",
    "    with torch.no_grad():\n",
    "        outputs = model(**inputs)\n",
    "    embedding = outputs.last_hidden_state.mean(dim=1).squeeze().numpy()\n",
    "    return embedding\n",
    "\n",
    "def cosine_similarity(vec1, vec2):\n",
    "    return np.dot(vec1, vec2) / (np.linalg.norm(vec1) * np.linalg.norm(vec2))\n",
    "\n",
    "def read_phrases(file_path):\n",
    "    with open(file_path, 'r', encoding='utf-8') as f:\n",
    "        phrases = [line.strip() for line in f.readlines()]\n",
    "    return phrases\n",
    "\n",
    "def compute_similarities(phrases, keyword, tokenizer, model):\n",
    "    keyword_embedding = get_embedding(keyword, tokenizer, model)\n",
    "    \n",
    "    similarities = []\n",
    "    for phrase in phrases:\n",
    "        phrase_embedding = get_embedding(phrase, tokenizer, model)\n",
    "        similarity = cosine_similarity(keyword_embedding, phrase_embedding)\n",
    "        similarities.append((phrase, similarity))\n",
    "    \n",
    "    return sorted(similarities, key=lambda x: x[1], reverse=True)\n",
    "\n",
    "def process_file(file_path, keyword, threshold=0.75):\n",
    "    phrases = read_phrases(file_path)\n",
    "    \n",
    "    sorted_similarities = compute_similarities(phrases, keyword, tokenizer, model)\n",
    "    \n",
    "    for phrase, similarity in sorted_similarities:\n",
    "        if similarity >= threshold:\n",
    "            print(f\"Phrase: {phrase}, Similarity: {similarity:.4f}\")\n"
   ]
  },
  {
   "cell_type": "code",
   "execution_count": null,
   "id": "507ee92f-f027-4d38-b0fe-a885c6573551",
   "metadata": {},
   "outputs": [],
   "source": [
    "file_path = \"words.txt\" # Key-phrasebank\n",
    "keyword = \"美国\" # choose \"China\"(for tiktok) or \"美国\"(for douyin)\n",
    "process_file(file_path, keyword, threshold=0.75)"
   ]
  }
 ],
 "metadata": {
  "kernelspec": {
   "display_name": "Python 3 (ipykernel)",
   "language": "python",
   "name": "python3"
  },
  "language_info": {
   "codemirror_mode": {
    "name": "ipython",
    "version": 3
   },
   "file_extension": ".py",
   "mimetype": "text/x-python",
   "name": "python",
   "nbconvert_exporter": "python",
   "pygments_lexer": "ipython3",
   "version": "3.11.9"
  }
 },
 "nbformat": 4,
 "nbformat_minor": 5
}
